{
 "cells": [
  {
   "cell_type": "code",
   "execution_count": 1,
   "id": "ad188724-f2b9-4c96-833f-ef5590eae606",
   "metadata": {},
   "outputs": [],
   "source": [
    "#importing pandas\n",
    "import pandas as pd"
   ]
  },
  {
   "cell_type": "code",
   "execution_count": 2,
   "id": "3aafc6ea-71f2-4a4d-8369-ab59db41762b",
   "metadata": {},
   "outputs": [],
   "source": [
    "#read data set\n",
    "df=pd.read_csv(\"data.csv.csv\")"
   ]
  },
  {
   "cell_type": "code",
   "execution_count": 3,
   "id": "9c0a31ec-e5f0-43b5-b1df-fbd5d30d64d2",
   "metadata": {},
   "outputs": [],
   "source": [
    "#count of Students\n",
    "def number_of_students(df):\n",
    "    print(len(df.index))"
   ]
  },
  {
   "cell_type": "code",
   "execution_count": 4,
   "id": "0235215b-0c59-461e-b276-da94f38c0c8f",
   "metadata": {},
   "outputs": [
    {
     "name": "stdout",
     "output_type": "stream",
     "text": [
      "15\n"
     ]
    }
   ],
   "source": [
    "number_of_students(df)"
   ]
  },
  {
   "cell_type": "code",
   "execution_count": 5,
   "id": "9f24d26b-e871-45ce-9681-809b393524f8",
   "metadata": {},
   "outputs": [],
   "source": [
    "midterm=df.iloc[:,2:3]\n",
    "classwork=df.iloc[:,3:]"
   ]
  },
  {
   "cell_type": "code",
   "execution_count": 6,
   "id": "a51406bc-9a8c-4cdd-8944-8eedbf8b819a",
   "metadata": {},
   "outputs": [],
   "source": [
    "def finalscore(df):\n",
    "# adding  2 coloumns into final score\n",
    "    finalscore = df['midterm'] + df['classwork']\n",
    "#insterting new column into the data set\n",
    "    df.insert(4,'Final Score', finalscore)"
   ]
  },
  {
   "cell_type": "code",
   "execution_count": 7,
   "id": "a6efef4f-0d23-46b5-a4d1-009eebfc3264",
   "metadata": {},
   "outputs": [],
   "source": [
    "finalscore(df)"
   ]
  },
  {
   "cell_type": "code",
   "execution_count": 8,
   "id": "a447f636-46a5-4533-9a62-eb5f08afc606",
   "metadata": {},
   "outputs": [],
   "source": [
    "# compouting Grade\n",
    "def comput_grades(df):\n",
    "    for i in range (len(df.index)):\n",
    "        score = df.at[i,'Final Score']\n",
    "        if (100>= score >=90):\n",
    "            df.at[i,\"grade\"]=\"A\"\n",
    "        elif (90> score >=75):\n",
    "            df.at[i,\"grade\"]=\"B\"\n",
    "        elif (75> score >=60):\n",
    "            df.at[i,\"grade\"]=\"C\"\n",
    "        elif (60> score >=50):\n",
    "            df.at[i,\"grade\"]=\"D\"\n",
    "        elif (50> score):\n",
    "            df.at[i,\"grade\"]=\"F\""
   ]
  },
  {
   "cell_type": "code",
   "execution_count": 9,
   "id": "44f9341d-86c7-4c09-b082-6ff1153d5939",
   "metadata": {},
   "outputs": [],
   "source": [
    "comput_grades(df)"
   ]
  },
  {
   "cell_type": "code",
   "execution_count": 10,
   "id": "aef46e3a-e462-4ca8-9e0a-72923accb978",
   "metadata": {},
   "outputs": [],
   "source": [
    "#computinga The minimum and maximum score & The average, standard deviation, and variance of score. \n",
    "def coloumn_statistic():\n",
    "    print(\"This is the Minimum Score:\",df[\"Final Score\"].min())\n",
    "   \n",
    "    print(\"This is the Maximum Score:\",df[\"Final Score\"].max())\n",
    "\n",
    "    print(\"This is The Average Score:\",df[\"Final Score\"].mean())\n",
    "    \n",
    "    print(\"This is the Standard Deviation Score:\",df[\"Final Score\"].std())\n",
    "    \n",
    "    print(\"This is the Variance Score:\",df[\"Final Score\"].var())\n",
    "    \n",
    " "
   ]
  },
  {
   "cell_type": "code",
   "execution_count": 11,
   "id": "5a481a4f-737c-4ce1-a901-e3ba619bbee7",
   "metadata": {},
   "outputs": [
    {
     "name": "stdout",
     "output_type": "stream",
     "text": [
      "This is the Minimum Score: 74\n",
      "This is the Maximum Score: 99\n",
      "This is The Average Score: 86.4\n",
      "This is the Standard Deviation Score: 9.217994823790505\n",
      "This is the Variance Score: 84.97142857142856\n"
     ]
    }
   ],
   "source": [
    "coloumn_statistic()"
   ]
  },
  {
   "cell_type": "code",
   "execution_count": null,
   "id": "8e37b561-7f55-4d9c-b9bd-e44f3531d6e9",
   "metadata": {},
   "outputs": [],
   "source": []
  },
  {
   "cell_type": "code",
   "execution_count": 12,
   "id": "72241cb5-3034-4553-84af-6af307c69d22",
   "metadata": {},
   "outputs": [],
   "source": [
    "#Grade A Students\n",
    "def Grade_A_Students(df):\n",
    "    student_grade_A = df.loc[df['grade'] == \"A\"]\n",
    "    print(student_grade_A.head())"
   ]
  },
  {
   "cell_type": "code",
   "execution_count": 13,
   "id": "cd53099a-782e-40ae-9bfb-a032669698a3",
   "metadata": {},
   "outputs": [
    {
     "name": "stdout",
     "output_type": "stream",
     "text": [
      "    id            name  midterm  classwork  Final Score grade\n",
      "0    1  adelazia.awwad       50         49           99     A\n",
      "1    2      ahmed.taha       45         45           90     A\n",
      "3    4      rawan.reda       48         48           96     A\n",
      "8    9    nahed.hassan       41         50           91     A\n",
      "12  13  shimaa.hussein       50         48           98     A\n"
     ]
    }
   ],
   "source": [
    "Grade_A_Students(df)"
   ]
  },
  {
   "cell_type": "code",
   "execution_count": 14,
   "id": "ee36dd2f-729a-4cfe-a444-5a27c23a3a88",
   "metadata": {},
   "outputs": [],
   "source": [
    "def search_for_students(students):\n",
    "    students = df.loc[df['name'].str.contains(students)]\n",
    "    print(students)"
   ]
  },
  {
   "cell_type": "code",
   "execution_count": 15,
   "id": "eeb45840-fe06-4ed5-88ac-b5884e779346",
   "metadata": {},
   "outputs": [],
   "source": [
    "def Exit_students():\n",
    "    return"
   ]
  }
 ],
 "metadata": {
  "kernelspec": {
   "display_name": "Python 3 (ipykernel)",
   "language": "python",
   "name": "python3"
  },
  "language_info": {
   "codemirror_mode": {
    "name": "ipython",
    "version": 3
   },
   "file_extension": ".py",
   "mimetype": "text/x-python",
   "name": "python",
   "nbconvert_exporter": "python",
   "pygments_lexer": "ipython3",
   "version": "3.9.12"
  }
 },
 "nbformat": 4,
 "nbformat_minor": 5
}
